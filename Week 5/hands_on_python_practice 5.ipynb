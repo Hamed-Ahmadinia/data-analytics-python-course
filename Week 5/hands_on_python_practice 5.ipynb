{
 "cells": [
  {
   "cell_type": "markdown",
   "id": "e3af01f0-eb01-4668-ba00-755922f5413a",
   "metadata": {},
   "source": [
    "## Hands-on - Probability Distributions and Variability"
   ]
  },
  {
   "cell_type": "code",
   "execution_count": 3,
   "id": "a56353bd",
   "metadata": {},
   "outputs": [
    {
     "name": "stdout",
     "output_type": "stream",
     "text": [
      "Dataset Preview:\n",
      "         date  value\n",
      "0  2016-05-09   1201\n",
      "1  2016-05-10   2329\n",
      "2  2016-05-11   1716\n",
      "3  2016-05-12  10539\n",
      "4  2016-05-13   6933\n"
     ]
    }
   ],
   "source": [
    "# Import necessary libraries\n",
    "import pandas as pd\n",
    "import numpy as np\n",
    "import matplotlib.pyplot as plt\n",
    "from sklearn.linear_model import LinearRegression\n",
    "from scipy.stats import ttest_ind\n",
    "from sklearn.metrics import mean_squared_error, r2_score\n",
    "from scipy.stats import pearsonr, spearmanr, kendalltau\n",
    "\n",
    "# Load dataset from GitHub URL\n",
    "file_path = \"https://raw.githubusercontent.com/Hamed-Ahmadinia/DASP-2025/refs/heads/main/fcc-forum-pageviews.csv\"\n",
    "df = pd.read_csv(file_path)\n",
    "\n",
    "# Read the dataset into a pandas dataframe\n",
    "df = pd.read_csv(file_path)  # Load the dataset as a pandas DataFrame\n",
    "\n",
    "# Display the first few rows of the dataframe to confirm the data has been loaded correctly\n",
    "print(\"Dataset Preview:\")  # Print a label for context\n",
    "print(df.head(5))  # Display the first 5 rows of the dataset"
   ]
  },
  {
   "cell_type": "markdown",
   "id": "f0497ded-78fc-473f-a372-f7a9178651c2",
   "metadata": {},
   "source": [
    "### **Question 1: Check for missing values**\r",
    "- Check for any **missing values** in each colum."
   ]
  },
  {
   "cell_type": "code",
   "execution_count": 28,
   "id": "ce2da9e1-00e5-477a-ab10-0afdc58ff97a",
   "metadata": {},
   "outputs": [],
   "source": [
    "# Your code here:"
   ]
  },
  {
   "cell_type": "markdown",
   "id": "7186c00d-4ac0-4853-8977-728f17e0ab64",
   "metadata": {},
   "source": [
    "### **Question 2: Compute the Covariance Between Consecutive Days**\n",
    "- Create a new column: **Previous Day Views\"**, which contains the previous day's pageviews.\n",
    "- Compute the covariance between **\"value\"** (current day's views) and **\"Previous Day Views\"**.\n"
   ]
  },
  {
   "cell_type": "code",
   "execution_count": 12,
   "id": "40ffded5-78e1-43f9-b0ab-979662f0e3b1",
   "metadata": {},
   "outputs": [],
   "source": [
    "# Your code here:"
   ]
  },
  {
   "cell_type": "markdown",
   "id": "abb7e8b6-88f3-4c20-a706-1866b901f936",
   "metadata": {},
   "source": [
    "### **Question 3: Compute Pearson, Spearman, and Kendall Correlation Between Pageviews and Previous Day Views**\n",
    "- Compute and compare three different correlation measures.?"
   ]
  },
  {
   "cell_type": "code",
   "execution_count": 15,
   "id": "f2530035-c7dc-49e8-b34a-6eb82408850c",
   "metadata": {},
   "outputs": [],
   "source": [
    "# Your code here:"
   ]
  },
  {
   "cell_type": "markdown",
   "id": "3542b40f-45c0-4b19-a00b-6832bb1f8933",
   "metadata": {},
   "source": [
    "### **Question 4: Train a Simple Linear Regression Model to Predict Pageviews**\n",
    "- Convert **\"date\"** to numeric values (days since the start).\n",
    "- Train a linear regression model to predict **\"value\"** (pageviews) using time.**.\r\n"
   ]
  },
  {
   "cell_type": "code",
   "execution_count": 31,
   "id": "e71a544c-dafa-4277-93fc-55877a245927",
   "metadata": {},
   "outputs": [],
   "source": [
    "# Your code here:"
   ]
  },
  {
   "cell_type": "markdown",
   "id": "6fc3984d-5b71-4117-8ab8-f9bc81434f13",
   "metadata": {},
   "source": [
    "### **Question 5: Evaluate the Regression Model**\n",
    "- Compute R-squared and Mean Squared Error (MSE).\n",
    "- Discuss the model's performance.\r\n"
   ]
  },
  {
   "cell_type": "code",
   "execution_count": 34,
   "id": "a45846a0-4136-4985-a2e1-f9706ee40ce6",
   "metadata": {},
   "outputs": [],
   "source": [
    "# Your code here:"
   ]
  },
  {
   "cell_type": "markdown",
   "id": "fdd2c687-f411-4f99-860d-8e2c0be0ac3c",
   "metadata": {},
   "source": [
    "### **Question 6: Test Whether Pageviews Have Increased Over Time**\n",
    "- Compare mean pageviews in the first 30 days vs. the last 30 days.\n",
    "- Perform a one-sample T-test"
   ]
  },
  {
   "cell_type": "code",
   "execution_count": null,
   "id": "aa3aa4e7-0e20-4d5f-86bb-e1ecd6daa7e5",
   "metadata": {},
   "outputs": [],
   "source": [
    "# Your code here:"
   ]
  },
  {
   "cell_type": "code",
   "execution_count": null,
   "id": "8b39c018-9959-41ef-a3b2-217d47c5c7df",
   "metadata": {},
   "outputs": [],
   "source": []
  }
 ],
 "metadata": {
  "kernelspec": {
   "display_name": "Python 3 (ipykernel)",
   "language": "python",
   "name": "python3"
  },
  "language_info": {
   "codemirror_mode": {
    "name": "ipython",
    "version": 3
   },
   "file_extension": ".py",
   "mimetype": "text/x-python",
   "name": "python",
   "nbconvert_exporter": "python",
   "pygments_lexer": "ipython3",
   "version": "3.11.9"
  }
 },
 "nbformat": 4,
 "nbformat_minor": 5
}
